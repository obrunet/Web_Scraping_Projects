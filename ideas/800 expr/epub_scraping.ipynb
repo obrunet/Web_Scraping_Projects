{
 "cells": [
  {
   "cell_type": "code",
   "execution_count": 1,
   "id": "f3ffa134",
   "metadata": {},
   "outputs": [],
   "source": [
    "import pandas as pd\n",
    "from bs4 import BeautifulSoup\n",
    "\n",
    "with open(\"./file_name.html\", 'r', encoding=\"utf8\") as f:\n",
    "    contents = f.read()\n",
    "    soup = BeautifulSoup(contents, 'html.parser')\n",
    "\n",
    "container = soup.body.find_all(\"div\", id=\"page-container\")[0]"
   ]
  },
  {
   "cell_type": "code",
   "execution_count": null,
   "id": "669a37aa",
   "metadata": {},
   "outputs": [],
   "source": [
    "https://stackoverflow.com/questions/34660417/beautiful-soup-if-class-contains-or-regex\n",
    "BeautifulSoup supports CSS selectors which allow you to select elements based on the content of particular attributes. This includes the selector *= for contains.\n",
    "The following will return all div elements with a class attribute containing the text 'listing-col-':\n",
    "\n",
    "for EachPart in soup.select('div[class*=\"listing-col-\"]'):\n",
    "    print EachPart.get_text()"
   ]
  },
  {
   "cell_type": "code",
   "execution_count": 2,
   "id": "7581ff04",
   "metadata": {},
   "outputs": [
    {
     "data": {
      "text/plain": [
       "['— Moi aussi.',\n",
       " 'Nice to meet you. ',\n",
       " '— Nice to meet you too.',\n",
       " '• Je suis content de te rencontrer.',\n",
       " 'It’s good to see you.']"
      ]
     },
     "execution_count": 2,
     "metadata": {},
     "output_type": "execute_result"
    }
   ],
   "source": [
    "all_txt = []\n",
    "for EachPart in container.select('div[class*=\"t m0 \"]'):\n",
    "    all_txt.append(EachPart.get_text())\n",
    "    \n",
    "all_txt[100:105]"
   ]
  },
  {
   "cell_type": "code",
   "execution_count": 3,
   "id": "445bfaa2",
   "metadata": {},
   "outputs": [
    {
     "data": {
      "text/html": [
       "<div>\n",
       "<style scoped>\n",
       "    .dataframe tbody tr th:only-of-type {\n",
       "        vertical-align: middle;\n",
       "    }\n",
       "\n",
       "    .dataframe tbody tr th {\n",
       "        vertical-align: top;\n",
       "    }\n",
       "\n",
       "    .dataframe thead th {\n",
       "        text-align: right;\n",
       "    }\n",
       "</style>\n",
       "<table border=\"1\" class=\"dataframe\">\n",
       "  <thead>\n",
       "    <tr style=\"text-align: right;\">\n",
       "      <th></th>\n",
       "      <th>fr</th>\n",
       "      <th>en</th>\n",
       "    </tr>\n",
       "  </thead>\n",
       "  <tbody>\n",
       "    <tr>\n",
       "      <th>0</th>\n",
       "      <td>Bonjour !</td>\n",
       "      <td>Hi! / Hello!</td>\n",
       "    </tr>\n",
       "    <tr>\n",
       "      <th>1</th>\n",
       "      <td>Bonsoir !</td>\n",
       "      <td>Good evening.</td>\n",
       "    </tr>\n",
       "    <tr>\n",
       "      <th>2</th>\n",
       "      <td>Comment allez-vous ?</td>\n",
       "      <td>— Très bien, merci.</td>\n",
       "    </tr>\n",
       "    <tr>\n",
       "      <th>3</th>\n",
       "      <td>Et vous ?</td>\n",
       "      <td>How about you?</td>\n",
       "    </tr>\n",
       "    <tr>\n",
       "      <th>4</th>\n",
       "      <td>Ravi de vous rencontrer.</td>\n",
       "      <td>— Moi aussi.</td>\n",
       "    </tr>\n",
       "  </tbody>\n",
       "</table>\n",
       "</div>"
      ],
      "text/plain": [
       "                         fr                   en\n",
       "0                 Bonjour !        Hi! / Hello! \n",
       "1                 Bonsoir !        Good evening.\n",
       "2      Comment allez-vous ?  — Très bien, merci.\n",
       "3                 Et vous ?       How about you?\n",
       "4  Ravi de vous rencontrer.         — Moi aussi."
      ]
     },
     "execution_count": 3,
     "metadata": {},
     "output_type": "execute_result"
    }
   ],
   "source": [
    "fr, en = [], []\n",
    "for i, t in enumerate(all_txt):\n",
    "    if '• ' in t:\n",
    "        fr.append(t[2:])\n",
    "        en.append(all_txt[i+1])\n",
    "        \n",
    "if len(fr) == len(en):\n",
    "    df = pd.DataFrame(list(zip(fr, en)), columns=['fr','en']) \n",
    "\n",
    "df.head()"
   ]
  },
  {
   "cell_type": "code",
   "execution_count": 4,
   "id": "e32107df",
   "metadata": {},
   "outputs": [
    {
     "data": {
      "text/html": [
       "<div>\n",
       "<style scoped>\n",
       "    .dataframe tbody tr th:only-of-type {\n",
       "        vertical-align: middle;\n",
       "    }\n",
       "\n",
       "    .dataframe tbody tr th {\n",
       "        vertical-align: top;\n",
       "    }\n",
       "\n",
       "    .dataframe thead th {\n",
       "        text-align: right;\n",
       "    }\n",
       "</style>\n",
       "<table border=\"1\" class=\"dataframe\">\n",
       "  <thead>\n",
       "    <tr style=\"text-align: right;\">\n",
       "      <th></th>\n",
       "      <th>fr</th>\n",
       "      <th>en</th>\n",
       "    </tr>\n",
       "  </thead>\n",
       "  <tbody>\n",
       "    <tr>\n",
       "      <th>0</th>\n",
       "      <td>Bonjour !</td>\n",
       "      <td>Hi! / Hello!</td>\n",
       "    </tr>\n",
       "    <tr>\n",
       "      <th>1</th>\n",
       "      <td>Bonsoir !</td>\n",
       "      <td>Good evening.</td>\n",
       "    </tr>\n",
       "    <tr>\n",
       "      <th>2</th>\n",
       "      <td>Comment allez-vous ?</td>\n",
       "      <td>Très bien, merci.</td>\n",
       "    </tr>\n",
       "    <tr>\n",
       "      <th>3</th>\n",
       "      <td>Et vous ?</td>\n",
       "      <td>How about you?</td>\n",
       "    </tr>\n",
       "    <tr>\n",
       "      <th>4</th>\n",
       "      <td>Ravi de vous rencontrer.</td>\n",
       "      <td>Moi aussi.</td>\n",
       "    </tr>\n",
       "  </tbody>\n",
       "</table>\n",
       "</div>"
      ],
      "text/plain": [
       "                         fr                 en\n",
       "0                 Bonjour !      Hi! / Hello! \n",
       "1                 Bonsoir !      Good evening.\n",
       "2      Comment allez-vous ?  Très bien, merci.\n",
       "3                 Et vous ?     How about you?\n",
       "4  Ravi de vous rencontrer.         Moi aussi."
      ]
     },
     "execution_count": 4,
     "metadata": {},
     "output_type": "execute_result"
    }
   ],
   "source": [
    "df['en'] = df['en'].apply(lambda x: x[2:] if '— ' in x else x)\n",
    "df.head()"
   ]
  },
  {
   "cell_type": "code",
   "execution_count": 5,
   "id": "e7b19ecb",
   "metadata": {},
   "outputs": [
    {
     "data": {
      "text/html": [
       "<div>\n",
       "<style scoped>\n",
       "    .dataframe tbody tr th:only-of-type {\n",
       "        vertical-align: middle;\n",
       "    }\n",
       "\n",
       "    .dataframe tbody tr th {\n",
       "        vertical-align: top;\n",
       "    }\n",
       "\n",
       "    .dataframe thead th {\n",
       "        text-align: right;\n",
       "    }\n",
       "</style>\n",
       "<table border=\"1\" class=\"dataframe\">\n",
       "  <thead>\n",
       "    <tr style=\"text-align: right;\">\n",
       "      <th></th>\n",
       "      <th>fr</th>\n",
       "      <th>en</th>\n",
       "    </tr>\n",
       "  </thead>\n",
       "  <tbody>\n",
       "    <tr>\n",
       "      <th>830</th>\n",
       "      <td>À qui est ce livre ?</td>\n",
       "      <td>Whose book is this?</td>\n",
       "    </tr>\n",
       "    <tr>\n",
       "      <th>831</th>\n",
       "      <td>Il y avait trois mille personnes.</td>\n",
       "      <td>There were three thousand people.</td>\n",
       "    </tr>\n",
       "    <tr>\n",
       "      <th>832</th>\n",
       "      <td>Il y avait des centaines de personnes.</td>\n",
       "      <td>There were thousands of people.</td>\n",
       "    </tr>\n",
       "    <tr>\n",
       "      <th>833</th>\n",
       "      <td>D’une manière générale, ils se forment en ajou...</td>\n",
       "      <td>nombre cardinal. On les écrit ainsi en abrégé ...</td>\n",
       "    </tr>\n",
       "    <tr>\n",
       "      <th>834</th>\n",
       "      <td>Exceptions  :  1,  2  et  3  (ainsi  que  tou...</td>\n",
       "      <td>chiffres). On les écrit ainsi en abrégé : 1st,...</td>\n",
       "    </tr>\n",
       "  </tbody>\n",
       "</table>\n",
       "</div>"
      ],
      "text/plain": [
       "                                                    fr  \\\n",
       "830                               À qui est ce livre ?   \n",
       "831                  Il y avait trois mille personnes.   \n",
       "832             Il y avait des centaines de personnes.   \n",
       "833  D’une manière générale, ils se forment en ajou...   \n",
       "834   Exceptions  :  1,  2  et  3  (ainsi  que  tou...   \n",
       "\n",
       "                                                    en  \n",
       "830                                Whose book is this?  \n",
       "831                  There were three thousand people.  \n",
       "832                    There were thousands of people.  \n",
       "833  nombre cardinal. On les écrit ainsi en abrégé ...  \n",
       "834  chiffres). On les écrit ainsi en abrégé : 1st,...  "
      ]
     },
     "execution_count": 5,
     "metadata": {},
     "output_type": "execute_result"
    }
   ],
   "source": [
    "df.tail()"
   ]
  },
  {
   "cell_type": "code",
   "execution_count": 6,
   "id": "e287b166",
   "metadata": {},
   "outputs": [
    {
     "data": {
      "text/html": [
       "<div>\n",
       "<style scoped>\n",
       "    .dataframe tbody tr th:only-of-type {\n",
       "        vertical-align: middle;\n",
       "    }\n",
       "\n",
       "    .dataframe tbody tr th {\n",
       "        vertical-align: top;\n",
       "    }\n",
       "\n",
       "    .dataframe thead th {\n",
       "        text-align: right;\n",
       "    }\n",
       "</style>\n",
       "<table border=\"1\" class=\"dataframe\">\n",
       "  <thead>\n",
       "    <tr style=\"text-align: right;\">\n",
       "      <th></th>\n",
       "      <th>fr</th>\n",
       "      <th>en</th>\n",
       "    </tr>\n",
       "  </thead>\n",
       "  <tbody>\n",
       "    <tr>\n",
       "      <th>828</th>\n",
       "      <td>Combien de temps dure le film ?</td>\n",
       "      <td>How long is the film?</td>\n",
       "    </tr>\n",
       "    <tr>\n",
       "      <th>829</th>\n",
       "      <td>Vous allez au cinéma tous les combien ?</td>\n",
       "      <td>How often do you go to the cinema?</td>\n",
       "    </tr>\n",
       "    <tr>\n",
       "      <th>830</th>\n",
       "      <td>À qui est ce livre ?</td>\n",
       "      <td>Whose book is this?</td>\n",
       "    </tr>\n",
       "    <tr>\n",
       "      <th>831</th>\n",
       "      <td>Il y avait trois mille personnes.</td>\n",
       "      <td>There were three thousand people.</td>\n",
       "    </tr>\n",
       "    <tr>\n",
       "      <th>832</th>\n",
       "      <td>Il y avait des centaines de personnes.</td>\n",
       "      <td>There were thousands of people.</td>\n",
       "    </tr>\n",
       "  </tbody>\n",
       "</table>\n",
       "</div>"
      ],
      "text/plain": [
       "                                          fr  \\\n",
       "828          Combien de temps dure le film ?   \n",
       "829  Vous allez au cinéma tous les combien ?   \n",
       "830                     À qui est ce livre ?   \n",
       "831        Il y avait trois mille personnes.   \n",
       "832   Il y avait des centaines de personnes.   \n",
       "\n",
       "                                     en  \n",
       "828               How long is the film?  \n",
       "829  How often do you go to the cinema?  \n",
       "830                 Whose book is this?  \n",
       "831   There were three thousand people.  \n",
       "832     There were thousands of people.  "
      ]
     },
     "execution_count": 6,
     "metadata": {},
     "output_type": "execute_result"
    }
   ],
   "source": [
    "df = df.iloc[:-2]\n",
    "df.tail()"
   ]
  },
  {
   "cell_type": "code",
   "execution_count": 7,
   "id": "dbed8ba5",
   "metadata": {},
   "outputs": [],
   "source": [
    "df.to_csv('outup.csv', index=False)"
   ]
  }
 ],
 "metadata": {
  "kernelspec": {
   "display_name": "Python 3",
   "language": "python",
   "name": "python3"
  },
  "language_info": {
   "codemirror_mode": {
    "name": "ipython",
    "version": 3
   },
   "file_extension": ".py",
   "mimetype": "text/x-python",
   "name": "python",
   "nbconvert_exporter": "python",
   "pygments_lexer": "ipython3",
   "version": "3.8.8"
  }
 },
 "nbformat": 4,
 "nbformat_minor": 5
}
